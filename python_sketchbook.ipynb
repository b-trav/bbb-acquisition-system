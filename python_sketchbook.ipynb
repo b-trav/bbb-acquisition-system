{
 "cells": [
  {
   "cell_type": "code",
   "execution_count": null,
   "metadata": {
    "collapsed": false
   },
   "outputs": [],
   "source": [
    "%%javascript #load the nbextension which turns on codefolding\n",
    "require(['base/js/utils'],\n",
    "function(utils) {\n",
    "    utils.load_extensions('IPython-notebook-extensions-3.x/usability/codefolding/main');\n",
    "});"
   ]
  },
  {
   "cell_type": "code",
   "execution_count": null,
   "metadata": {
    "collapsed": false
   },
   "outputs": [],
   "source": [
    "#html_file = \"/home/btrav/Documents/bbb-acquisition-system/PCBs/BBB_ADS1271_cape_parts.html\"\n",
    "html_file = \"/home/btrav/Documents/bbb-acquisition-system/PCBs/BBB_ADS1271_front_panel_parts.html\"\n",
    "with open(html_file, \"r\") as f:\n",
    "    contents = f.read()\n",
    "contents = contents.replace(\"=\\n\",\"\")\n",
    "with open(html_file, \"w\") as f:\n",
    "    f.write(contents)"
   ]
  },
  {
   "cell_type": "code",
   "execution_count": 6,
   "metadata": {
    "collapsed": false
   },
   "outputs": [],
   "source": [
    "#html_file = \"/home/btrav/Documents/bbb-acquisition-system/PCBs/BBB_ADS1271_cape_parts.html\"\n",
    "html_file = \"/home/btrav/Documents/bbb-acquisition-system/PCBs/BBB_ADS1271_front_panel_parts.html\"\n",
    "with open(html_file, \"r\") as f:\n",
    "    contents = f.read()\n",
    "contents = contents.replace(\"=3D\",\"=\")\n",
    "with open(html_file, \"w\") as f:\n",
    "    f.write(contents)"
   ]
  },
  {
   "cell_type": "code",
   "execution_count": null,
   "metadata": {
    "collapsed": true
   },
   "outputs": [],
   "source": []
  }
 ],
 "metadata": {
  "kernelspec": {
   "display_name": "Python 3",
   "language": "python",
   "name": "python3"
  },
  "language_info": {
   "codemirror_mode": {
    "name": "ipython",
    "version": 3
   },
   "file_extension": ".py",
   "mimetype": "text/x-python",
   "name": "python",
   "nbconvert_exporter": "python",
   "pygments_lexer": "ipython3",
   "version": "3.4.3"
  }
 },
 "nbformat": 4,
 "nbformat_minor": 0
}
